{
 "cells": [
  {
   "cell_type": "code",
   "execution_count": 32,
   "metadata": {},
   "outputs": [],
   "source": [
    "class NewReadFile:\n",
    "\n",
    "\n",
    "    def __init__(self):\n",
    "\n",
    "        self.input_string = input(\"give commands here: \")\n",
    "\n",
    "        if '.' in self.input_string:\n",
    "            self.arg_location = self.input_string.find('.')\n",
    "\n",
    "            self.file_name = self.input_string[:self.arg_location]\n",
    "        \n",
    "        with open(self.input_string, 'r') as f:\n",
    "            contents = f.readlines()\n",
    "            self.contents = contents\n",
    "\n",
    "        self.edges_list = []\n",
    "        self.node_edges_count = []\n",
    "\n",
    "        self.edges_string_list = []\n",
    "        self.edges_int_list = []\n",
    "        \n",
    "        for i in contents:\n",
    "            try:\n",
    "                self.node_edges_count.append(int(i))\n",
    "            except ValueError:\n",
    "                self.edges_string_list.append(i)\n",
    "        for item in self.edges_string_list:\n",
    "            if item[3:] == \"\\n\":\n",
    "                self.edges_int_list.append((int(item[0]), int(item[2])))\n",
    "        \n",
    "        self.edges_int_list.append((int(self.edges_string_list[-1][0]), int(self.edges_string_list[-1][2])))\n",
    "\n",
    "        \n",
    "        self.total_nodes = self.node_edges_count[0]\n",
    "        self.total_edges = self.node_edges_count[1]\n",
    "\n",
    "      \n",
    "\n",
    "\n",
    "\n",
    "\n",
    "from collections import defaultdict\n",
    "\n",
    "\n",
    "#This class represents a directed graph using adjacency list representation\n",
    "class Graph:\n",
    "  \n",
    "    def __init__(self,vertices):\n",
    "        self.V= vertices #No. of vertices\n",
    "        self.graph = defaultdict(list) # default dictionary to store graph\n",
    "\n",
    "        self.total_scc = 0\n",
    "\n",
    "        self.new_list = []\n",
    "\n",
    "  \n",
    "    # function to add an edge to graph\n",
    "    def addEdge(self,u,v):\n",
    "        self.graph[u].append(v)\n",
    "  \n",
    "    # A function used by DFS\n",
    "    def DFSUtil(self,v,visited):\n",
    "        # Mark the current node as visited and print it\n",
    "        visited[v]= True\n",
    "        print(v),\n",
    "        #Recur for all the vertices adjacent to this vertex\n",
    "        for i in self.graph[v]:\n",
    "            if visited[i]==False:\n",
    "                self.DFSUtil(i,visited)\n",
    "    \n",
    "    def my_dfs(self, v, visited):\n",
    "        visited[v] = True \n",
    "        print(v)\n",
    "        self.new_list.append(v)\n",
    "        for i in self.graph[v]:\n",
    "            if visited[i]==False:\n",
    "                self.my_dfs(i, visited)\n",
    "                \n",
    " \n",
    " \n",
    "    def fillOrder(self,v,visited, stack):\n",
    "        # Mark the current node as visited\n",
    "        visited[v]= True\n",
    "        #Recur for all the vertices adjacent to this vertex\n",
    "        for i in self.graph[v]:\n",
    "            if visited[i]==False:\n",
    "                self.fillOrder(i, visited, stack)\n",
    "        stack = stack.append(v)\n",
    "     \n",
    " \n",
    "    # Function that returns reverse (or transpose) of this graph\n",
    "    def getTranspose(self):\n",
    "        g = Graph(self.V)\n",
    " \n",
    "        # Recur for all the vertices adjacent to this vertex\n",
    "        for i in self.graph:\n",
    "            for j in self.graph[i]:\n",
    "                g.addEdge(j,i)\n",
    "        return g\n",
    " \n",
    "  \n",
    "  \n",
    "    # The main function that finds and prints all strongly\n",
    "    # connected components\n",
    "\n",
    "    def main_scc(self):\n",
    "\n",
    "        self.final_list = []\n",
    "\n",
    "        stack = []\n",
    "        visited = [False] * (self.V)\n",
    "        for i in range(self.V):\n",
    "            if visited[i]==False:\n",
    "                self.fillOrder(i, visited, stack)\n",
    "        \n",
    "        gr = self.getTranspose()\n",
    "\n",
    "        visited = [False] * (self.V)\n",
    "\n",
    "        while stack:\n",
    "            i = stack.pop()\n",
    "            if visited[i]==False:\n",
    "                gr.my_dfs(i, visited)\n",
    "                self.new_list.append(',')\n",
    "                \n",
    "\n",
    "                self.total_scc += 1\n",
    "\n",
    "\n",
    "\n",
    "    def printSCCs(self):\n",
    "\n",
    "        stack = []\n",
    "        # Mark all the vertices as not visited (For first DFS)\n",
    "        visited =[False]*(self.V)\n",
    "        # Fill vertices in stack according to their finishing\n",
    "        # times\n",
    "        for i in range(self.V):\n",
    "            if visited[i]==False:\n",
    "                self.fillOrder(i, visited, stack)\n",
    " \n",
    "        # Create a reversed graph\n",
    "        gr = self.getTranspose()\n",
    "          \n",
    "         # Mark all the vertices as not visited (For second DFS)\n",
    "        visited =[False]*(self.V)\n",
    " \n",
    "         # Now process all vertices in order defined by Stack\n",
    "        while stack:\n",
    "            i = stack.pop()\n",
    "            if visited[i]==False:\n",
    "                gr.DFSUtil(i, visited)\n",
    "                print(\"\")\n",
    "                self.total_scc += 1\n",
    "    \n",
    "    \n",
    "\n",
    "  \n",
    "# Create a graph given in the above diagram\n",
    "#g = Graph(5)\n",
    "#g.addEdge(1, 0)\n",
    "#g.addEdge(0, 2)\n",
    "#g.addEdge(2, 1)\n",
    "#g.addEdge(0, 3)\n",
    "#g.addEdge(3, 4)\n",
    " \n",
    "\n",
    "nrf = NewReadFile()\n",
    "\n",
    "\n",
    "graph = Graph(nrf.total_nodes)\n",
    "\n",
    "for i in nrf.edges_int_list:\n",
    "    graph.addEdge(i[0], i[1])\n",
    "  \n",
    "#print(\"Following are strongly connected components \" + \"in given graph\")\n",
    "\n",
    "\n",
    "#graph.printSCCs()\n",
    "\n",
    "#print(\"The given graph has {} Strongly Connected Components\".format(graph.total_scc))\n",
    "\n",
    "\n",
    "\n",
    "#graph.printSCCs()\n",
    "#This code is contributed by Neelam Yadav"
   ]
  },
  {
   "cell_type": "code",
   "execution_count": null,
   "metadata": {},
   "outputs": [],
   "source": []
  },
  {
   "cell_type": "code",
   "execution_count": 33,
   "metadata": {},
   "outputs": [
    {
     "name": "stdout",
     "output_type": "stream",
     "text": [
      "0\n",
      "1\n",
      "3\n",
      "2\n",
      "5\n",
      "6\n",
      "4\n",
      "7\n",
      "8\n",
      "9\n"
     ]
    }
   ],
   "source": [
    "graph.main_scc()"
   ]
  },
  {
   "cell_type": "code",
   "execution_count": 31,
   "metadata": {},
   "outputs": [
    {
     "data": {
      "text/plain": [
       "[',', ',', ',', ',', ',']"
      ]
     },
     "execution_count": 31,
     "metadata": {},
     "output_type": "execute_result"
    }
   ],
   "source": [
    "graph.new_list"
   ]
  },
  {
   "cell_type": "code",
   "execution_count": 22,
   "metadata": {},
   "outputs": [
    {
     "data": {
      "text/plain": [
       "[]"
      ]
     },
     "execution_count": 22,
     "metadata": {},
     "output_type": "execute_result"
    }
   ],
   "source": [
    "graph.final_list"
   ]
  },
  {
   "cell_type": "code",
   "execution_count": 11,
   "metadata": {},
   "outputs": [
    {
     "data": {
      "text/plain": [
       "5"
      ]
     },
     "execution_count": 11,
     "metadata": {},
     "output_type": "execute_result"
    }
   ],
   "source": [
    "graph.total_scc"
   ]
  },
  {
   "cell_type": "code",
   "execution_count": null,
   "metadata": {},
   "outputs": [],
   "source": []
  }
 ],
 "metadata": {
  "kernelspec": {
   "display_name": "Python 3.9.12 ('base')",
   "language": "python",
   "name": "python3"
  },
  "language_info": {
   "codemirror_mode": {
    "name": "ipython",
    "version": 3
   },
   "file_extension": ".py",
   "mimetype": "text/x-python",
   "name": "python",
   "nbconvert_exporter": "python",
   "pygments_lexer": "ipython3",
   "version": "3.9.12"
  },
  "orig_nbformat": 4,
  "vscode": {
   "interpreter": {
    "hash": "ad2bdc8ecc057115af97d19610ffacc2b4e99fae6737bb82f5d7fb13d2f2c186"
   }
  }
 },
 "nbformat": 4,
 "nbformat_minor": 2
}
