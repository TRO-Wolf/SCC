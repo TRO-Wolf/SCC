{
 "cells": [
  {
   "cell_type": "code",
   "execution_count": 13,
   "metadata": {},
   "outputs": [
    {
     "name": "stdout",
     "output_type": "stream",
     "text": [
      "Vertex 0: -> 3"
     ]
    },
    {
     "ename": "AttributeError",
     "evalue": "'AdjNode' object has no attribute 'next'",
     "output_type": "error",
     "traceback": [
      "\u001b[1;31m---------------------------------------------------------------------------\u001b[0m",
      "\u001b[1;31mAttributeError\u001b[0m                            Traceback (most recent call last)",
      "Cell \u001b[1;32mIn [13], line 83\u001b[0m\n\u001b[0;32m     80\u001b[0m graph\u001b[38;5;241m.\u001b[39madd_edge(\u001b[38;5;241m0\u001b[39m, \u001b[38;5;241m3\u001b[39m)\n\u001b[0;32m     81\u001b[0m graph\u001b[38;5;241m.\u001b[39madd_edge(\u001b[38;5;241m1\u001b[39m, \u001b[38;5;241m2\u001b[39m)\n\u001b[1;32m---> 83\u001b[0m graph\u001b[38;5;241m.\u001b[39mprint_agraph()\n\u001b[0;32m     86\u001b[0m \u001b[38;5;66;03m##Everything Below is my code\u001b[39;00m\n\u001b[0;32m     87\u001b[0m \u001b[38;5;28;01mclass\u001b[39;00m \u001b[38;5;21;01mGraph\u001b[39;00m:\n",
      "Cell \u001b[1;32mIn [13], line 72\u001b[0m, in \u001b[0;36mGraph.print_agraph\u001b[1;34m(self)\u001b[0m\n\u001b[0;32m     70\u001b[0m \u001b[38;5;28;01mwhile\u001b[39;00m temp:\n\u001b[0;32m     71\u001b[0m     \u001b[38;5;28mprint\u001b[39m(\u001b[38;5;124m\"\u001b[39m\u001b[38;5;124m -> \u001b[39m\u001b[38;5;132;01m{}\u001b[39;00m\u001b[38;5;124m\"\u001b[39m\u001b[38;5;241m.\u001b[39mformat(temp\u001b[38;5;241m.\u001b[39mvertex), end\u001b[38;5;241m=\u001b[39m\u001b[38;5;124m\"\u001b[39m\u001b[38;5;124m\"\u001b[39m)\n\u001b[1;32m---> 72\u001b[0m     temp \u001b[38;5;241m=\u001b[39m \u001b[43mtemp\u001b[49m\u001b[38;5;241;43m.\u001b[39;49m\u001b[43mnext\u001b[49m\n\u001b[0;32m     73\u001b[0m \u001b[38;5;28mprint\u001b[39m(\u001b[38;5;124m\"\u001b[39m\u001b[38;5;124m \u001b[39m\u001b[38;5;130;01m\\n\u001b[39;00m\u001b[38;5;124m\"\u001b[39m)\n",
      "\u001b[1;31mAttributeError\u001b[0m: 'AdjNode' object has no attribute 'next'"
     ]
    }
   ],
   "source": [
    "import sys\n",
    "\n",
    "class NewReadFile:\n",
    "\n",
    "    def __init__(self, param):\n",
    "\n",
    "        if param == \"input\":\n",
    "            self.param = sys.argv[1]\n",
    "        else:\n",
    "            self.param = param\n",
    "\n",
    "        with open(self.param, 'r') as f:\n",
    "            contents = f.readlines()\n",
    "        self.edges_list = []\n",
    "        self.node_edges_count = []\n",
    "        self.total_nodes = self.node_edges_count[0]\n",
    "        self.total_edges = self.node_edges_count[1]\n",
    "\n",
    "        self.vertex_string_list = []\n",
    "        self.vertex_int_list = []\n",
    "        for i in contents:\n",
    "            try:\n",
    "                self.node_edges_count.append(int(i))\n",
    "            except ValueError:\n",
    "                self.vertex_string_list.append(i)\n",
    "        for item in self.vertex_string_list:\n",
    "            if item[3:] == \"\\n\":\n",
    "                self.vertex_int_list.append((int(item[0]), int(item[2])))\n",
    "\n",
    "\n",
    "#A Class for the Nodes in a Linked List\n",
    "class Node:\n",
    "    def __init__(self, value=None):\n",
    "        self.value = value\n",
    "        self.next = None\n",
    "\n",
    "#A Class for a Single Linked List\n",
    "class LinkedList:\n",
    "    def __init__(self):\n",
    "        self.head = None\n",
    "        self.tail = None\n",
    "\n",
    "\n",
    "\n",
    "#Not My CODE until notice below\n",
    "class AdjNode:\n",
    "\n",
    "    def __init__(self, value):\n",
    "        self.vertex = value\n",
    "        self.next_value = None \n",
    "    \n",
    "class Graph:\n",
    "    def __init__(self, num):\n",
    "        self.V = num\n",
    "        self.graph = [None] * self.V\n",
    "    \n",
    "    def add_edge(self, s, d):\n",
    "        node = AdjNode(d)\n",
    "        node.next_value = self.graph[s]\n",
    "        self.graph[s] = node \n",
    "\n",
    "        node = AdjNode(s)\n",
    "        node.next_value = self.graph[d]\n",
    "        self.graph[d] = node\n",
    "\n",
    "    def print_agraph(self):\n",
    "        for i in range(self.V):\n",
    "            print(\"Vertex \" + str(i) + \":\", end=\"\")\n",
    "            temp = self.graph[i]\n",
    "            while temp:\n",
    "                print(\" -> {}\".format(temp.vertex), end=\"\")\n",
    "                temp = temp.next\n",
    "            print(\" \\n\")\n",
    "    \n",
    "V = 5\n",
    "# Create graph and edges\n",
    "graph = Graph(V)\n",
    "graph.add_edge(0, 1)\n",
    "graph.add_edge(0, 2)\n",
    "graph.add_edge(0, 3)\n",
    "graph.add_edge(1, 2)\n",
    "\n",
    "graph.print_agraph()\n",
    "\n",
    "\n",
    "##Everything Below is my code\n",
    "class Graph:\n",
    "\n",
    "    def __init__(self,total_nodes):\n",
    "        self.total_nodes = total_nodes\n",
    "        self.graph = [None] * self.total_nodes\n",
    "    \n",
    "    def add_edge(self, s, d):\n",
    "        node = AdjNode(d)\n",
    "        node.next_value = self.graph[s]\n",
    "        self.graph[s] = node\n",
    "\n",
    "        node = AdjNode(s)\n",
    "        node.next_value = self.graph[d]\n",
    "        self.graph[d] = node\n",
    "\n",
    "\n",
    "\n",
    "\n",
    "class AdjacenyList(NewReadFile):\n",
    "\n",
    "    def __init__(self):\n",
    "        super.__init__(param='stdin.txt')\n",
    "        self.graph = dict()\n"
   ]
  },
  {
   "cell_type": "code",
   "execution_count": null,
   "metadata": {},
   "outputs": [],
   "source": []
  },
  {
   "cell_type": "code",
   "execution_count": 36,
   "metadata": {},
   "outputs": [],
   "source": [
    "#Testing External Code\n",
    "\n",
    "#Except for this code, this is mine\n",
    "class NewReadFile:\n",
    "\n",
    "    def __init__(self, param):\n",
    "\n",
    "        if param == \"input\":\n",
    "            self.param = sys.argv[1]\n",
    "        else:\n",
    "            self.param = param\n",
    "\n",
    "        with open(self.param, 'r') as f:\n",
    "            contents = f.readlines()\n",
    "        self.edges_list = []\n",
    "        self.node_edges_count = []\n",
    "       \n",
    "\n",
    "        self.vertex_string_list = []\n",
    "        self.vertex_int_list = []\n",
    "        for i in contents:\n",
    "            try:\n",
    "                self.node_edges_count.append(int(i))\n",
    "            except ValueError:\n",
    "                self.vertex_string_list.append(i)\n",
    "        for item in self.vertex_string_list:\n",
    "            if item[3:] == \"\\n\":\n",
    "                self.vertex_int_list.append((int(item[0]), int(item[2])))\n",
    "\n",
    "        self.total_nodes = self.node_edges_count[0]\n",
    "        self.total_edges = self.node_edges_count[1]\n",
    "\n",
    "\n",
    "\n",
    "\n",
    "class AdjNode:\n",
    "\n",
    "    def __init__(self, value):\n",
    "        self.vertex = value\n",
    "        self.next_value = None \n",
    "    \n",
    "class Graph:\n",
    "    def __init__(self, num):\n",
    "        self.V = num\n",
    "        self.graph = [None] * self.V\n",
    "    \n",
    "    def add_edge(self, s, d):\n",
    "        node = AdjNode(d)\n",
    "        node.next_value = self.graph[s]\n",
    "        self.graph[s] = node \n",
    "\n",
    "        node = AdjNode(s)\n",
    "        node.next_value = self.graph[d]\n",
    "        self.graph[d] = node\n",
    "\n",
    "    def print_agraph(self):\n",
    "        for i in range(self.V):\n",
    "            print(\"Vertex \" + str(i) + \":\", end=\"\")\n",
    "            temp = self.graph[i]\n",
    "            while temp:\n",
    "                print(\" --->   {}  \".format(temp.vertex), end=\"\")\n",
    "                temp = temp.next_value\n",
    "            print(\" \\n\")\n",
    "\n",
    "nrf = NewReadFile('badorder.txt')\n",
    "\n",
    "\n",
    "graph = Graph(nrf.total_nodes)\n",
    "\n",
    "for i in nrf.vertex_int_list:\n",
    "    graph.add_edge(i[0], i[1])\n",
    "\n",
    "#V = 5\n",
    "# Create graph and edges\n",
    "#graph = Graph(V)\n",
    "#graph.add_edge(0, 1)\n",
    "#graph.add_edge(0, 2)\n",
    "#graph.add_edge(0, 3)\n",
    "#graph.add_edge(1, 2)\n",
    "\n",
    "#graph.print_agraph()#"
   ]
  },
  {
   "cell_type": "code",
   "execution_count": 37,
   "metadata": {},
   "outputs": [
    {
     "name": "stdout",
     "output_type": "stream",
     "text": [
      "Vertex 0: --->   1   \n",
      "\n",
      "Vertex 1: --->   3   --->   2   --->   0   \n",
      "\n",
      "Vertex 2: --->   3   --->   1   \n",
      "\n",
      "Vertex 3: --->   4   --->   1   --->   2   \n",
      "\n",
      "Vertex 4: --->   6   --->   7   --->   3   \n",
      "\n",
      "Vertex 5: --->   7   --->   6   \n",
      "\n",
      "Vertex 6: --->   8   --->   4   --->   5   \n",
      "\n",
      "Vertex 7: --->   8   --->   9   --->   4   --->   5   \n",
      "\n",
      "Vertex 8: --->   6   --->   7   \n",
      "\n",
      "Vertex 9: --->   7   \n",
      "\n"
     ]
    }
   ],
   "source": [
    "graph.print_agraph()"
   ]
  },
  {
   "cell_type": "code",
   "execution_count": 17,
   "metadata": {},
   "outputs": [],
   "source": [
    "nrf = NewReadFile('badorder.txt')"
   ]
  },
  {
   "cell_type": "code",
   "execution_count": 20,
   "metadata": {},
   "outputs": [
    {
     "data": {
      "text/plain": [
       "10"
      ]
     },
     "execution_count": 20,
     "metadata": {},
     "output_type": "execute_result"
    }
   ],
   "source": [
    "nrf.total_nodes"
   ]
  },
  {
   "cell_type": "code",
   "execution_count": 21,
   "metadata": {},
   "outputs": [
    {
     "data": {
      "text/plain": [
       "[(0, 1),\n",
       " (1, 2),\n",
       " (2, 3),\n",
       " (3, 1),\n",
       " (3, 4),\n",
       " (5, 6),\n",
       " (5, 7),\n",
       " (7, 4),\n",
       " (7, 9),\n",
       " (8, 7),\n",
       " (4, 6),\n",
       " (6, 8)]"
      ]
     },
     "execution_count": 21,
     "metadata": {},
     "output_type": "execute_result"
    }
   ],
   "source": [
    "nrf.vertex_int_list"
   ]
  },
  {
   "cell_type": "code",
   "execution_count": 24,
   "metadata": {},
   "outputs": [
    {
     "name": "stdout",
     "output_type": "stream",
     "text": [
      "0 1\n",
      "1 2\n",
      "2 3\n",
      "3 1\n",
      "3 4\n",
      "5 6\n",
      "5 7\n",
      "7 4\n",
      "7 9\n",
      "8 7\n",
      "4 6\n",
      "6 8\n"
     ]
    }
   ],
   "source": [
    "for i in nrf.vertex_int_list:\n",
    "    print(i[0], i[1])"
   ]
  },
  {
   "cell_type": "code",
   "execution_count": 19,
   "metadata": {},
   "outputs": [
    {
     "data": {
      "text/plain": [
       "[10, 13]"
      ]
     },
     "execution_count": 19,
     "metadata": {},
     "output_type": "execute_result"
    }
   ],
   "source": [
    "nrf.node_edges_count"
   ]
  },
  {
   "cell_type": "code",
   "execution_count": null,
   "metadata": {},
   "outputs": [],
   "source": []
  }
 ],
 "metadata": {
  "kernelspec": {
   "display_name": "Python 3.9.12 ('base')",
   "language": "python",
   "name": "python3"
  },
  "language_info": {
   "codemirror_mode": {
    "name": "ipython",
    "version": 3
   },
   "file_extension": ".py",
   "mimetype": "text/x-python",
   "name": "python",
   "nbconvert_exporter": "python",
   "pygments_lexer": "ipython3",
   "version": "3.9.12"
  },
  "orig_nbformat": 4,
  "vscode": {
   "interpreter": {
    "hash": "ad2bdc8ecc057115af97d19610ffacc2b4e99fae6737bb82f5d7fb13d2f2c186"
   }
  }
 },
 "nbformat": 4,
 "nbformat_minor": 2
}
