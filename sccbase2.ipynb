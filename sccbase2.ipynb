{
 "cells": [
  {
   "cell_type": "code",
   "execution_count": 13,
   "metadata": {},
   "outputs": [
    {
     "name": "stdout",
     "output_type": "stream",
     "text": [
      "Vertex 0: -> 3"
     ]
    },
    {
     "ename": "AttributeError",
     "evalue": "'AdjNode' object has no attribute 'next'",
     "output_type": "error",
     "traceback": [
      "\u001b[1;31m---------------------------------------------------------------------------\u001b[0m",
      "\u001b[1;31mAttributeError\u001b[0m                            Traceback (most recent call last)",
      "Cell \u001b[1;32mIn [13], line 83\u001b[0m\n\u001b[0;32m     80\u001b[0m graph\u001b[38;5;241m.\u001b[39madd_edge(\u001b[38;5;241m0\u001b[39m, \u001b[38;5;241m3\u001b[39m)\n\u001b[0;32m     81\u001b[0m graph\u001b[38;5;241m.\u001b[39madd_edge(\u001b[38;5;241m1\u001b[39m, \u001b[38;5;241m2\u001b[39m)\n\u001b[1;32m---> 83\u001b[0m graph\u001b[38;5;241m.\u001b[39mprint_agraph()\n\u001b[0;32m     86\u001b[0m \u001b[38;5;66;03m##Everything Below is my code\u001b[39;00m\n\u001b[0;32m     87\u001b[0m \u001b[38;5;28;01mclass\u001b[39;00m \u001b[38;5;21;01mGraph\u001b[39;00m:\n",
      "Cell \u001b[1;32mIn [13], line 72\u001b[0m, in \u001b[0;36mGraph.print_agraph\u001b[1;34m(self)\u001b[0m\n\u001b[0;32m     70\u001b[0m \u001b[38;5;28;01mwhile\u001b[39;00m temp:\n\u001b[0;32m     71\u001b[0m     \u001b[38;5;28mprint\u001b[39m(\u001b[38;5;124m\"\u001b[39m\u001b[38;5;124m -> \u001b[39m\u001b[38;5;132;01m{}\u001b[39;00m\u001b[38;5;124m\"\u001b[39m\u001b[38;5;241m.\u001b[39mformat(temp\u001b[38;5;241m.\u001b[39mvertex), end\u001b[38;5;241m=\u001b[39m\u001b[38;5;124m\"\u001b[39m\u001b[38;5;124m\"\u001b[39m)\n\u001b[1;32m---> 72\u001b[0m     temp \u001b[38;5;241m=\u001b[39m \u001b[43mtemp\u001b[49m\u001b[38;5;241;43m.\u001b[39;49m\u001b[43mnext\u001b[49m\n\u001b[0;32m     73\u001b[0m \u001b[38;5;28mprint\u001b[39m(\u001b[38;5;124m\"\u001b[39m\u001b[38;5;124m \u001b[39m\u001b[38;5;130;01m\\n\u001b[39;00m\u001b[38;5;124m\"\u001b[39m)\n",
      "\u001b[1;31mAttributeError\u001b[0m: 'AdjNode' object has no attribute 'next'"
     ]
    }
   ],
   "source": [
    "import sys\n",
    "\n",
    "class NewReadFile:\n",
    "\n",
    "    def __init__(self, param):\n",
    "\n",
    "        if param == \"input\":\n",
    "            self.param = sys.argv[1]\n",
    "        else:\n",
    "            self.param = param\n",
    "\n",
    "        with open(self.param, 'r') as f:\n",
    "            contents = f.readlines()\n",
    "        self.edges_list = []\n",
    "        self.node_edges_count = []\n",
    "        self.total_nodes = self.node_edges_count[0]\n",
    "        self.total_edges = self.node_edges_count[1]\n",
    "\n",
    "        self.vertex_string_list = []\n",
    "        self.vertex_int_list = []\n",
    "        for i in contents:\n",
    "            try:\n",
    "                self.node_edges_count.append(int(i))\n",
    "            except ValueError:\n",
    "                self.vertex_string_list.append(i)\n",
    "        for item in self.vertex_string_list:\n",
    "            if item[3:] == \"\\n\":\n",
    "                self.vertex_int_list.append((int(item[0]), int(item[2])))\n",
    "\n",
    "\n",
    "#A Class for the Nodes in a Linked List\n",
    "class Node:\n",
    "    def __init__(self, value=None):\n",
    "        self.value = value\n",
    "        self.next = None\n",
    "\n",
    "#A Class for a Single Linked List\n",
    "class LinkedList:\n",
    "    def __init__(self):\n",
    "        self.head = None\n",
    "        self.tail = None\n",
    "\n",
    "\n",
    "\n",
    "#Not My CODE until notice below\n",
    "class AdjNode:\n",
    "\n",
    "    def __init__(self, value):\n",
    "        self.vertex = value\n",
    "        self.next_value = None \n",
    "    \n",
    "class Graph:\n",
    "    def __init__(self, num):\n",
    "        self.V = num\n",
    "        self.graph = [None] * self.V\n",
    "    \n",
    "    def add_edge(self, s, d):\n",
    "        node = AdjNode(d)\n",
    "        node.next_value = self.graph[s]\n",
    "        self.graph[s] = node \n",
    "\n",
    "        node = AdjNode(s)\n",
    "        node.next_value = self.graph[d]\n",
    "        self.graph[d] = node\n",
    "\n",
    "    def print_agraph(self):\n",
    "        for i in range(self.V):\n",
    "            print(\"Vertex \" + str(i) + \":\", end=\"\")\n",
    "            temp = self.graph[i]\n",
    "            while temp:\n",
    "                print(\" -> {}\".format(temp.vertex), end=\"\")\n",
    "                temp = temp.next\n",
    "            print(\" \\n\")\n",
    "    \n",
    "V = 5\n",
    "# Create graph and edges\n",
    "graph = Graph(V)\n",
    "graph.add_edge(0, 1)\n",
    "graph.add_edge(0, 2)\n",
    "graph.add_edge(0, 3)\n",
    "graph.add_edge(1, 2)\n",
    "\n",
    "graph.print_agraph()\n",
    "\n",
    "\n",
    "##Everything Below is my code\n",
    "class Graph:\n",
    "\n",
    "    def __init__(self,total_nodes):\n",
    "        self.total_nodes = total_nodes\n",
    "        self.graph = [None] * self.total_nodes\n",
    "    \n",
    "    def add_edge(self, s, d):\n",
    "        node = AdjNode(d)\n",
    "        node.next_value = self.graph[s]\n",
    "        self.graph[s] = node\n",
    "\n",
    "        node = AdjNode(s)\n",
    "        node.next_value = self.graph[d]\n",
    "        self.graph[d] = node\n",
    "\n",
    "\n",
    "\n",
    "\n",
    "class AdjacenyList(NewReadFile):\n",
    "\n",
    "    def __init__(self):\n",
    "        super.__init__(param='stdin.txt')\n",
    "        self.graph = dict()\n"
   ]
  },
  {
   "cell_type": "code",
   "execution_count": null,
   "metadata": {},
   "outputs": [],
   "source": []
  },
  {
   "cell_type": "code",
   "execution_count": 36,
   "metadata": {},
   "outputs": [],
   "source": [
    "#Testing External Code\n",
    "\n",
    "#Except for this code, this is mine\n",
    "class NewReadFile:\n",
    "\n",
    "    def __init__(self, param):\n",
    "\n",
    "        if param == \"input\":\n",
    "            self.param = sys.argv[1]\n",
    "        else:\n",
    "            self.param = param\n",
    "\n",
    "        with open(self.param, 'r') as f:\n",
    "            contents = f.readlines()\n",
    "        self.edges_list = []\n",
    "        self.node_edges_count = []\n",
    "       \n",
    "\n",
    "        self.vertex_string_list = []\n",
    "        self.vertex_int_list = []\n",
    "        for i in contents:\n",
    "            try:\n",
    "                self.node_edges_count.append(int(i))\n",
    "            except ValueError:\n",
    "                self.vertex_string_list.append(i)\n",
    "        for item in self.vertex_string_list:\n",
    "            if item[3:] == \"\\n\":\n",
    "                self.vertex_int_list.append((int(item[0]), int(item[2])))\n",
    "\n",
    "        self.total_nodes = self.node_edges_count[0]\n",
    "        self.total_edges = self.node_edges_count[1]\n",
    "\n",
    "\n",
    "\n",
    "\n",
    "class AdjNode:\n",
    "\n",
    "    def __init__(self, value):\n",
    "        self.vertex = value\n",
    "        self.next_value = None \n",
    "    \n",
    "class Graph:\n",
    "    def __init__(self, num):\n",
    "        self.V = num\n",
    "        self.graph = [None] * self.V\n",
    "    \n",
    "    def add_edge(self, s, d):\n",
    "        node = AdjNode(d)\n",
    "        node.next_value = self.graph[s]\n",
    "        self.graph[s] = node \n",
    "\n",
    "        node = AdjNode(s)\n",
    "        node.next_value = self.graph[d]\n",
    "        self.graph[d] = node\n",
    "\n",
    "    def print_agraph(self):\n",
    "        for i in range(self.V):\n",
    "            print(\"Vertex \" + str(i) + \":\", end=\"\")\n",
    "            temp = self.graph[i]\n",
    "            while temp:\n",
    "                print(\" --->   {}  \".format(temp.vertex), end=\"\")\n",
    "                temp = temp.next_value\n",
    "            print(\" \\n\")\n",
    "\n",
    "nrf = NewReadFile('badorder.txt')\n",
    "\n",
    "\n",
    "graph = Graph(nrf.total_nodes)\n",
    "\n",
    "for i in nrf.vertex_int_list:\n",
    "    graph.add_edge(i[0], i[1])\n",
    "\n",
    "#V = 5\n",
    "# Create graph and edges\n",
    "#graph = Graph(V)\n",
    "#graph.add_edge(0, 1)\n",
    "#graph.add_edge(0, 2)\n",
    "#graph.add_edge(0, 3)\n",
    "#graph.add_edge(1, 2)\n",
    "\n",
    "#graph.print_agraph()#"
   ]
  },
  {
   "cell_type": "code",
   "execution_count": 37,
   "metadata": {},
   "outputs": [
    {
     "name": "stdout",
     "output_type": "stream",
     "text": [
      "Vertex 0: --->   1   \n",
      "\n",
      "Vertex 1: --->   3   --->   2   --->   0   \n",
      "\n",
      "Vertex 2: --->   3   --->   1   \n",
      "\n",
      "Vertex 3: --->   4   --->   1   --->   2   \n",
      "\n",
      "Vertex 4: --->   6   --->   7   --->   3   \n",
      "\n",
      "Vertex 5: --->   7   --->   6   \n",
      "\n",
      "Vertex 6: --->   8   --->   4   --->   5   \n",
      "\n",
      "Vertex 7: --->   8   --->   9   --->   4   --->   5   \n",
      "\n",
      "Vertex 8: --->   6   --->   7   \n",
      "\n",
      "Vertex 9: --->   7   \n",
      "\n"
     ]
    }
   ],
   "source": [
    "graph.print_agraph()"
   ]
  },
  {
   "cell_type": "code",
   "execution_count": 17,
   "metadata": {},
   "outputs": [],
   "source": [
    "nrf = NewReadFile('badorder.txt')"
   ]
  },
  {
   "cell_type": "code",
   "execution_count": 20,
   "metadata": {},
   "outputs": [
    {
     "data": {
      "text/plain": [
       "10"
      ]
     },
     "execution_count": 20,
     "metadata": {},
     "output_type": "execute_result"
    }
   ],
   "source": [
    "nrf.total_nodes"
   ]
  },
  {
   "cell_type": "code",
   "execution_count": 21,
   "metadata": {},
   "outputs": [
    {
     "data": {
      "text/plain": [
       "[(0, 1),\n",
       " (1, 2),\n",
       " (2, 3),\n",
       " (3, 1),\n",
       " (3, 4),\n",
       " (5, 6),\n",
       " (5, 7),\n",
       " (7, 4),\n",
       " (7, 9),\n",
       " (8, 7),\n",
       " (4, 6),\n",
       " (6, 8)]"
      ]
     },
     "execution_count": 21,
     "metadata": {},
     "output_type": "execute_result"
    }
   ],
   "source": [
    "nrf.vertex_int_list"
   ]
  },
  {
   "cell_type": "code",
   "execution_count": 24,
   "metadata": {},
   "outputs": [
    {
     "name": "stdout",
     "output_type": "stream",
     "text": [
      "0 1\n",
      "1 2\n",
      "2 3\n",
      "3 1\n",
      "3 4\n",
      "5 6\n",
      "5 7\n",
      "7 4\n",
      "7 9\n",
      "8 7\n",
      "4 6\n",
      "6 8\n"
     ]
    }
   ],
   "source": [
    "for i in nrf.vertex_int_list:\n",
    "    print(i[0], i[1])"
   ]
  },
  {
   "cell_type": "code",
   "execution_count": 19,
   "metadata": {},
   "outputs": [
    {
     "data": {
      "text/plain": [
       "[10, 13]"
      ]
     },
     "execution_count": 19,
     "metadata": {},
     "output_type": "execute_result"
    }
   ],
   "source": [
    "nrf.node_edges_count"
   ]
  },
  {
   "cell_type": "code",
   "execution_count": 6,
   "metadata": {},
   "outputs": [
    {
     "name": "stdout",
     "output_type": "stream",
     "text": [
      "Following are strongly connected components in given graph\n"
     ]
    }
   ],
   "source": [
    "class NewReadFile:\n",
    "\n",
    "\n",
    "    def __init__(self):\n",
    "\n",
    "        self.input_string = input(\"give commands here: \")\n",
    "\n",
    "        if '.' in self.input_string:\n",
    "            self.arg_location = self.input_string.find('.')\n",
    "\n",
    "            self.file_name = self.input_string[:self.arg_location]\n",
    "        \n",
    "        with open(self.input_string, 'r') as f:\n",
    "            contents = f.readlines()\n",
    "            self.contents = contents\n",
    "\n",
    "        self.edges_list = []\n",
    "        self.node_edges_count = []\n",
    "\n",
    "        self.edges_string_list = []\n",
    "        self.edges_int_list = []\n",
    "        \n",
    "        for i in contents:\n",
    "            try:\n",
    "                self.node_edges_count.append(int(i))\n",
    "            except ValueError:\n",
    "                self.edges_string_list.append(i)\n",
    "        for item in self.edges_string_list:\n",
    "            if item[3:] == \"\\n\":\n",
    "                self.edges_int_list.append((int(item[0]), int(item[2])))\n",
    "        \n",
    "        self.edges_int_list.append((int(self.edges_string_list[-1][0]), int(self.edges_string_list[-1][2])))\n",
    "\n",
    "        \n",
    "        self.total_nodes = self.node_edges_count[0]\n",
    "        self.total_edges = self.node_edges_count[1]\n",
    "\n",
    "      \n",
    "\n",
    "\n",
    "\n",
    "\n",
    "from collections import defaultdict\n",
    "\n",
    "\n",
    "#This class represents a directed graph using adjacency list representation\n",
    "class Graph:\n",
    "  \n",
    "    def __init__(self,vertices):\n",
    "        self.V= vertices #No. of vertices\n",
    "        self.graph = defaultdict(list) # default dictionary to store graph\n",
    "\n",
    "        self.total_scc = 0\n",
    "\n",
    "        self.new_list = []\n",
    "\n",
    "  \n",
    "    # function to add an edge to graph\n",
    "    def addEdge(self,u,v):\n",
    "        self.graph[u].append(v)\n",
    "  \n",
    "\n",
    "#print('Hi', file=open('output.txt', 'a'))\n",
    "\n",
    "\n",
    "    # A function used by DFS\n",
    "    def DFSUtil(self,v,visited):\n",
    "        # Mark the current node as visited and print it\n",
    "        visited[v]= True\n",
    "        print(v, end=',', file=open(\"output.txt\", 'a')),\n",
    "        #Recur for all the vertices adjacent to this vertex\n",
    "        for i in self.graph[v]:\n",
    "            if visited[i]==False:\n",
    "                self.DFSUtil(i,visited)\n",
    "    \n",
    "    def my_dfs(self, v, visited):\n",
    "        visited[v] = True \n",
    "        print(v)\n",
    "        self.new_list.append(v)\n",
    "        for i in self.graph[v]:\n",
    "            if visited[i]==False:\n",
    "                self.my_dfs(i, visited)\n",
    "                \n",
    " \n",
    " \n",
    "    def fillOrder(self,v,visited, stack):\n",
    "        # Mark the current node as visited\n",
    "        visited[v]= True\n",
    "        #Recur for all the vertices adjacent to this vertex\n",
    "        for i in self.graph[v]:\n",
    "            if visited[i]==False:\n",
    "                self.fillOrder(i, visited, stack)\n",
    "        stack = stack.append(v)\n",
    "     \n",
    " \n",
    "    # Function that returns reverse (or transpose) of this graph\n",
    "    def getTranspose(self):\n",
    "        g = Graph(self.V)\n",
    " \n",
    "        # Recur for all the vertices adjacent to this vertex\n",
    "        for i in self.graph:\n",
    "            for j in self.graph[i]:\n",
    "                g.addEdge(j,i)\n",
    "        return g\n",
    " \n",
    "  \n",
    "  \n",
    "    # The main function that finds and prints all strongly\n",
    "    # connected components\n",
    "\n",
    "    def main_scc(self):\n",
    "\n",
    "        self.final_list = []\n",
    "\n",
    "        stack = []\n",
    "        visited = [False] * (self.V)\n",
    "        for i in range(self.V):\n",
    "            if visited[i]==False:\n",
    "                self.fillOrder(i, visited, stack)\n",
    "        \n",
    "        gr = self.getTranspose()\n",
    "\n",
    "        visited = [False] * (self.V)\n",
    "\n",
    "        while stack:\n",
    "            i = stack.pop()\n",
    "            if visited[i]==False:\n",
    "                gr.my_dfs(i, visited)\n",
    "                self.new_list.append(',')\n",
    "                \n",
    "\n",
    "                self.total_scc += 1\n",
    "\n",
    "\n",
    "\n",
    "    def printSCCs(self):\n",
    "\n",
    "        stack = []\n",
    "        # Mark all the vertices as not visited (For first DFS)\n",
    "        visited =[False]*(self.V)\n",
    "        # Fill vertices in stack according to their finishing\n",
    "        # times\n",
    "        for i in range(self.V):\n",
    "            if visited[i]==False:\n",
    "                self.fillOrder(i, visited, stack)\n",
    " \n",
    "        # Create a reversed graph\n",
    "        gr = self.getTranspose()\n",
    "          \n",
    "         # Mark all the vertices as not visited (For second DFS)\n",
    "        visited =[False]*(self.V)\n",
    " \n",
    "         # Now process all vertices in order defined by Stack\n",
    "        while stack:\n",
    "            i = stack.pop()\n",
    "            if visited[i]==False:\n",
    "                gr.DFSUtil(i, visited)\n",
    "                #print(\"\")\n",
    "                print(\" \", file=open(\"output.txt\", 'a'))\n",
    "                self.total_scc += 1\n",
    "    \n",
    "    \n",
    "\n",
    "  \n",
    "# Create a graph given in the above diagram\n",
    "#g = Graph(5)\n",
    "#g.addEdge(1, 0)\n",
    "#g.addEdge(0, 2)\n",
    "#g.addEdge(2, 1)\n",
    "#g.addEdge(0, 3)\n",
    "#g.addEdge(3, 4)\n",
    " \n",
    "\n",
    "nrf = NewReadFile()\n",
    "\n",
    "\n",
    "graph = Graph(nrf.total_nodes)\n",
    "\n",
    "for i in nrf.edges_int_list:\n",
    "    graph.addEdge(i[0], i[1])\n",
    "  \n",
    "print(\"Following are strongly connected components \" + \"in given graph\")\n",
    "\n",
    "\n",
    "graph.printSCCs()\n",
    "\n",
    "#print(\"The given graph has {} Strongly Connected Components\".format(graph.total_scc))\n",
    "\n",
    "\n",
    "\n",
    "#graph.printSCCs()\n",
    "#This code is contributed by Neelam Yadav"
   ]
  },
  {
   "cell_type": "code",
   "execution_count": 33,
   "metadata": {},
   "outputs": [],
   "source": [
    "mine = list(input(\"type input here: \"))"
   ]
  },
  {
   "cell_type": "code",
   "execution_count": 35,
   "metadata": {},
   "outputs": [
    {
     "name": "stdout",
     "output_type": "stream",
     "text": [
      "['4', ',', ' ', '3', ',', ' ', '0', ' ', '1', ',', ' ', '1', ' ', '2', ',', ' ', '2', ' ', '3', ',']\n"
     ]
    }
   ],
   "source": [
    "print(mine)"
   ]
  },
  {
   "cell_type": "code",
   "execution_count": 70,
   "metadata": {},
   "outputs": [
    {
     "name": "stdout",
     "output_type": "stream",
     "text": [
      "['4', ',', ' ', '3', ',', ' ', '0', ' ', '1', ',', ' ', '1', ' ', '2', ',', ' ', '2', ' ', '3', ',']\n"
     ]
    }
   ],
   "source": [
    "print(mine, sep=',')"
   ]
  },
  {
   "cell_type": "code",
   "execution_count": 36,
   "metadata": {},
   "outputs": [
    {
     "data": {
      "text/plain": [
       "list"
      ]
     },
     "execution_count": 36,
     "metadata": {},
     "output_type": "execute_result"
    }
   ],
   "source": [
    "type(mine)"
   ]
  },
  {
   "cell_type": "code",
   "execution_count": 37,
   "metadata": {},
   "outputs": [
    {
     "ename": "AttributeError",
     "evalue": "'list' object has no attribute 'rstrip'",
     "output_type": "error",
     "traceback": [
      "\u001b[1;31m---------------------------------------------------------------------------\u001b[0m",
      "\u001b[1;31mAttributeError\u001b[0m                            Traceback (most recent call last)",
      "Cell \u001b[1;32mIn [37], line 1\u001b[0m\n\u001b[1;32m----> 1\u001b[0m mine\u001b[38;5;241m.\u001b[39mrstrip()\n",
      "\u001b[1;31mAttributeError\u001b[0m: 'list' object has no attribute 'rstrip'"
     ]
    }
   ],
   "source": [
    "mine.rstrip()"
   ]
  },
  {
   "cell_type": "code",
   "execution_count": 55,
   "metadata": {},
   "outputs": [
    {
     "data": {
      "text/plain": [
       "['4', ',', '3', ',', '0', '1', ',', '1', '2', ',', '2', '3', ',']"
      ]
     },
     "execution_count": 55,
     "metadata": {},
     "output_type": "execute_result"
    }
   ],
   "source": [
    "n_list = []\n",
    "for i in mine:\n",
    "    if i != ' ':\n",
    "        n_list.append(i)\n",
    "\n",
    "n_list"
   ]
  },
  {
   "cell_type": "code",
   "execution_count": null,
   "metadata": {},
   "outputs": [],
   "source": [
    "for i in n_list:\n",
    "    if i == "
   ]
  },
  {
   "cell_type": "code",
   "execution_count": 65,
   "metadata": {},
   "outputs": [
    {
     "data": {
      "text/plain": [
       "['4', ',', '3']"
      ]
     },
     "execution_count": 65,
     "metadata": {},
     "output_type": "execute_result"
    }
   ],
   "source": [
    "n_list[0:3]"
   ]
  },
  {
   "cell_type": "code",
   "execution_count": 66,
   "metadata": {},
   "outputs": [
    {
     "data": {
      "text/plain": [
       "['4', ',']"
      ]
     },
     "execution_count": 66,
     "metadata": {},
     "output_type": "execute_result"
    }
   ],
   "source": [
    "n_list[:2]"
   ]
  },
  {
   "cell_type": "code",
   "execution_count": 54,
   "metadata": {},
   "outputs": [
    {
     "data": {
      "text/plain": [
       "['4', '3', '0', '1', '1', '2', '2', '3']"
      ]
     },
     "execution_count": 54,
     "metadata": {},
     "output_type": "execute_result"
    }
   ],
   "source": [
    "for i in n_list:\n",
    "    if i ==',':\n",
    "        n_list.remove(i)\n",
    "n_list"
   ]
  },
  {
   "cell_type": "code",
   "execution_count": 74,
   "metadata": {},
   "outputs": [
    {
     "name": "stdout",
     "output_type": "stream",
     "text": [
      "[10, 13]\n"
     ]
    }
   ],
   "source": [
    "try:\n",
    "    my_list = []\n",
    "\n",
    "    while True:\n",
    "        my_list.append(int(input()))\n",
    "\n",
    "except:\n",
    "    print(my_list)"
   ]
  },
  {
   "cell_type": "code",
   "execution_count": 75,
   "metadata": {},
   "outputs": [
    {
     "ename": "SyntaxError",
     "evalue": "'continue' not properly in loop (2705309058.py, line 10)",
     "output_type": "error",
     "traceback": [
      "\u001b[1;36m  Cell \u001b[1;32mIn [75], line 10\u001b[1;36m\u001b[0m\n\u001b[1;33m    continue\u001b[0m\n\u001b[1;37m    ^\u001b[0m\n\u001b[1;31mSyntaxError\u001b[0m\u001b[1;31m:\u001b[0m 'continue' not properly in loop\n"
     ]
    }
   ],
   "source": [
    "try:\n",
    "    my_list = []\n",
    "\n",
    "    while True:\n",
    "        #my_list.append(int(input()))\n",
    "        my_list.append(input())\n",
    "\n",
    "\n",
    "except:\n",
    "    \n"
   ]
  },
  {
   "cell_type": "code",
   "execution_count": 1,
   "metadata": {},
   "outputs": [
    {
     "name": "stdout",
     "output_type": "stream",
     "text": [
      "stop\n"
     ]
    }
   ],
   "source": [
    "t = input()\n",
    "if t == 'stop':\n",
    "    print(t)"
   ]
  },
  {
   "cell_type": "code",
   "execution_count": 2,
   "metadata": {},
   "outputs": [],
   "source": [
    "import random"
   ]
  },
  {
   "cell_type": "code",
   "execution_count": 16,
   "metadata": {},
   "outputs": [
    {
     "name": "stdout",
     "output_type": "stream",
     "text": [
      "83\n",
      "36\n",
      "88\n",
      "70\n",
      "15\n",
      "53\n",
      "69\n",
      "92\n"
     ]
    }
   ],
   "source": [
    "go = True\n",
    "\n",
    "\n",
    "\n",
    "while go==True:\n",
    "    n = random.randint(1, 100)\n",
    "    print(n)\n",
    "    if n > 90:\n",
    "        go == False\n",
    "        break\n"
   ]
  },
  {
   "cell_type": "code",
   "execution_count": 17,
   "metadata": {},
   "outputs": [],
   "source": [
    "list1 = []\n",
    "\n",
    "go = True\n",
    "\n",
    "while go == True:\n",
    "    mine = input()\n",
    "    list1.append(mine)\n",
    "    if mine =='stop':\n",
    "        break\n",
    "\n",
    "\n",
    "\n",
    "\n"
   ]
  },
  {
   "cell_type": "code",
   "execution_count": 18,
   "metadata": {},
   "outputs": [
    {
     "data": {
      "text/plain": [
       "['10', '13', '0 1', '1 2', 'stop']"
      ]
     },
     "execution_count": 18,
     "metadata": {},
     "output_type": "execute_result"
    }
   ],
   "source": [
    "list1"
   ]
  },
  {
   "cell_type": "code",
   "execution_count": null,
   "metadata": {},
   "outputs": [],
   "source": []
  }
 ],
 "metadata": {
  "kernelspec": {
   "display_name": "Python 3.9.12 ('base')",
   "language": "python",
   "name": "python3"
  },
  "language_info": {
   "codemirror_mode": {
    "name": "ipython",
    "version": 3
   },
   "file_extension": ".py",
   "mimetype": "text/x-python",
   "name": "python",
   "nbconvert_exporter": "python",
   "pygments_lexer": "ipython3",
   "version": "3.9.12"
  },
  "orig_nbformat": 4,
  "vscode": {
   "interpreter": {
    "hash": "a594abc6aac3a5b9f03414c0659134147be7cf370d96643d0da111e5531d0c28"
   }
  }
 },
 "nbformat": 4,
 "nbformat_minor": 2
}
